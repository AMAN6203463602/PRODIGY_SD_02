{
 "cells": [
  {
   "cell_type": "code",
   "execution_count": 1,
   "id": "3aa7de11",
   "metadata": {},
   "outputs": [
    {
     "name": "stdout",
     "output_type": "stream",
     "text": [
      "Welcome to the Guessing Game!\n",
      "Guess the secret number (between 1 and 100): 69\n",
      "Too high! Try again.\n",
      "Guess the secret number (between 1 and 100): 10\n",
      "Too high! Try again.\n",
      "Guess the secret number (between 1 and 100): 1\n",
      "Too low! Try again.\n",
      "Guess the secret number (between 1 and 100): 100\n",
      "Too high! Try again.\n",
      "Guess the secret number (between 1 and 100): 25\n",
      "Too high! Try again.\n",
      "Guess the secret number (between 1 and 100): 26\n",
      "Too high! Try again.\n",
      "Guess the secret number (between 1 and 100): 70\n",
      "Too high! Try again.\n",
      "Guess the secret number (between 1 and 100): 2\n",
      "Too low! Try again.\n",
      "Guess the secret number (between 1 and 100): 3\n",
      "Too low! Try again.\n",
      "Guess the secret number (between 1 and 100): 4\n",
      "Too low! Try again.\n",
      "Guess the secret number (between 1 and 100): 5\n",
      "Congratulations! You've guessed the secret number 5 in 11 attempts.\n"
     ]
    }
   ],
   "source": [
    "import random\n",
    "\n",
    "def guessing_game():\n",
    "    # Generate a random number between 1 and 100\n",
    "    secret_number = random.randint(1, 100)\n",
    "    \n",
    "    attempts = 0  # Initialize the number of attempts\n",
    "    \n",
    "    while True:\n",
    "        try:\n",
    "            guess = int(input(\"Guess the secret number (between 1 and 100): \"))\n",
    "            attempts += 1  # Increment the number of attempts\n",
    "            \n",
    "            if guess < secret_number:\n",
    "                print(\"Too low! Try again.\")\n",
    "            elif guess > secret_number:\n",
    "                print(\"Too high! Try again.\")\n",
    "            else:\n",
    "                print(f\"Congratulations! You've guessed the secret number {secret_number} in {attempts} attempts.\")\n",
    "                break  # Exit the loop when the correct number is guessed\n",
    "        \n",
    "        except ValueError:\n",
    "            print(\"Invalid input. Please enter a valid number.\")\n",
    "\n",
    "if __name__ == \"__main__\":\n",
    "    print(\"Welcome to the Guessing Game!\")\n",
    "    guessing_game()\n"
   ]
  },
  {
   "cell_type": "code",
   "execution_count": null,
   "id": "2e68de1d",
   "metadata": {},
   "outputs": [],
   "source": []
  }
 ],
 "metadata": {
  "kernelspec": {
   "display_name": "Python 3 (ipykernel)",
   "language": "python",
   "name": "python3"
  },
  "language_info": {
   "codemirror_mode": {
    "name": "ipython",
    "version": 3
   },
   "file_extension": ".py",
   "mimetype": "text/x-python",
   "name": "python",
   "nbconvert_exporter": "python",
   "pygments_lexer": "ipython3",
   "version": "3.11.4"
  }
 },
 "nbformat": 4,
 "nbformat_minor": 5
}
